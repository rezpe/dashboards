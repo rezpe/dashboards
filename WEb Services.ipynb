{
 "cells": [
  {
   "cell_type": "code",
   "execution_count": 9,
   "metadata": {
    "collapsed": true
   },
   "outputs": [],
   "source": [
    "jsonlist = \"\"\"[{\n",
    "    \"url\": \"\",\n",
    "    \"Description\": \"Custom Web Service\",\n",
    "    \"parameters\": \"\"\n",
    "  },{\n",
    "    \"url\": \"api/search_by_search_period\",\n",
    "    \"Description\": \"Search hits by look date API\",\n",
    "    \"parameters\": \"market+ptype+period+onds\"\n",
    "  }, {\n",
    "    \"page\": \"search-look-hits.html\",\n",
    "    \"url\": \"api/v1/search_look_hits\",\n",
    "    \"Description\": \"Search hits by look date API\",\n",
    "    \"parameters\": \"market+month+origin+destination\"\n",
    "  }, {\n",
    "    \"page\": \"search-travel-hits.html\",\n",
    "    \"url\": \"api/v1/search_travel_hits\",\n",
    "    \"Description\": \"Search hits by travel date API  \",\n",
    "    \"parameters\": \"market+month+origin+destination+weekends\"\n",
    "  }, {\n",
    "    \"page\": \"search-hit-evolutions.html\",\n",
    "    \"url\": \"api/v1/search_hit_evolutions\",\n",
    "    \"Description\": \"Search hit evolutions API\",\n",
    "    \"parameters\": \"market+origin+destination\"\n",
    "  }, {\n",
    "    \"page\": \"search-hit-variations.html\",\n",
    "    \"url\": \"api/v1/search_hit_variations\",\n",
    "    \"Description\": \"Search hit variations API  \",\n",
    "    \"parameters\": \"market+month_a+month_b\"\n",
    "  }, {\n",
    "    \"page\": \"booking-analysis-evolution.html\",\n",
    "    \"url\": \"api/v1/booking_agency_evolutions\",\n",
    "    \"Description\": \"Travel Agency Booking Analysis API - evolution  \",\n",
    "    \"parameters\": \"booking_period\"\n",
    "  }, {\n",
    "    \"page\": \"booking-analysis-top-airlines.html\",\n",
    "    \"url\": \"api/v1/booking_agency_airlines\",\n",
    "    \"Description\": \"Travel Agency Booking Analysis API - top airlines\",\n",
    "    \"parameters\": \"booking_period+sort_by\"\n",
    "  }, {\n",
    "    \"page\": \"booking-analysis-top-countries.html\",\n",
    "    \"url\": \"api/v1/booking_agency_countries\",\n",
    "    \"Description\": \"Travel Agency Booking Analysis API - top countries  \",\n",
    "    \"parameters\": \"booking_period+sort_by\"\n",
    "  }, {\n",
    "    \"page\": \"booking-analysis-top-onds.html\",\n",
    "    \"url\": \"api/v1/booking_agency_onds\",\n",
    "    \"Description\": \"Travel Agency Booking Analysis API - top O&Ds\",\n",
    "    \"parameters\": \"booking_period+sort_by\"\n",
    "  }, {\n",
    "    \"page\": \"booking-analysis-total.html\",\n",
    "    \"url\": \"api/v1/booking_agency_totals\",\n",
    "    \"Description\": \"Travel Agency Booking Analysis API - total per agency\",\n",
    "    \"parameters\": \"booking_period\"\n",
    "  }, {\n",
    "    \"page\": \"refdata-airlines.html\",\n",
    "    \"url\": \"api/airlines\",\n",
    "    \"Description\": \"Airline Reference API\",\n",
    "    \"parameters\": \"code\"\n",
    "  }, {\n",
    "    \"page\": \"refdata-aircrafts.html\",\n",
    "    \"url\": \"api/aircraft\",\n",
    "    \"Description\": \"Aircraft Reference API\",\n",
    "    \"parameters\": \"rest_obeject_id\"\n",
    "  }, {\n",
    "    \"page\": \"refdata-airports.html\",\n",
    "    \"url\": \"api/airports\",\n",
    "    \"Description\": \"Airport Reference API\",\n",
    "    \"parameters\": \"rest_obeject_id\"\n",
    "  }, {\n",
    "    \"page\": \"refdata-cities.html\",\n",
    "    \"url\": \"api/cities\",\n",
    "    \"Description\": \"Cities Reference API\",\n",
    "    \"parameters\": \"rest_obeject_id\"\n",
    "  }, {\n",
    "    \"page\": \"refdata-countries.html\",\n",
    "    \"url\": \"api/countries\",\n",
    "    \"Description\": \"Countries Reference API\",\n",
    "    \"parameters\": \"rest_obeject_id\"\n",
    "  }]\"\"\""
   ]
  },
  {
   "cell_type": "code",
   "execution_count": 10,
   "metadata": {
    "collapsed": true
   },
   "outputs": [],
   "source": [
    "import json"
   ]
  },
  {
   "cell_type": "code",
   "execution_count": 14,
   "metadata": {
    "collapsed": true
   },
   "outputs": [],
   "source": [
    "ws = json.loads(jsonlist)"
   ]
  },
  {
   "cell_type": "code",
   "execution_count": 15,
   "metadata": {
    "collapsed": false
   },
   "outputs": [],
   "source": [
    "def parametersEdit(e):\n",
    "    param = e[\"parameters\"].split(\"+\")\n",
    "    e[\"parameters\"] = param\n",
    "    return e\n",
    "\n",
    "ws = map(parametersEdit ,ws)"
   ]
  },
  {
   "cell_type": "code",
   "execution_count": 16,
   "metadata": {
    "collapsed": false
   },
   "outputs": [
    {
     "data": {
      "text/plain": [
       "[{u'Description': u'Custom Web Service', u'parameters': [u''], u'url': u''},\n",
       " {u'Description': u'Search hits by look date API',\n",
       "  u'parameters': [u'market', u'ptype', u'period', u'onds'],\n",
       "  u'url': u'api/search_by_search_period'},\n",
       " {u'Description': u'Search hits by look date API',\n",
       "  u'page': u'search-look-hits.html',\n",
       "  u'parameters': [u'market', u'month', u'origin', u'destination'],\n",
       "  u'url': u'api/v1/search_look_hits'},\n",
       " {u'Description': u'Search hits by travel date API  ',\n",
       "  u'page': u'search-travel-hits.html',\n",
       "  u'parameters': [u'market', u'month', u'origin', u'destination', u'weekends'],\n",
       "  u'url': u'api/v1/search_travel_hits'},\n",
       " {u'Description': u'Search hit evolutions API',\n",
       "  u'page': u'search-hit-evolutions.html',\n",
       "  u'parameters': [u'market', u'origin', u'destination'],\n",
       "  u'url': u'api/v1/search_hit_evolutions'},\n",
       " {u'Description': u'Search hit variations API  ',\n",
       "  u'page': u'search-hit-variations.html',\n",
       "  u'parameters': [u'market', u'month_a', u'month_b'],\n",
       "  u'url': u'api/v1/search_hit_variations'},\n",
       " {u'Description': u'Travel Agency Booking Analysis API - evolution  ',\n",
       "  u'page': u'booking-analysis-evolution.html',\n",
       "  u'parameters': [u'booking_period'],\n",
       "  u'url': u'api/v1/booking_agency_evolutions'},\n",
       " {u'Description': u'Travel Agency Booking Analysis API - top airlines',\n",
       "  u'page': u'booking-analysis-top-airlines.html',\n",
       "  u'parameters': [u'booking_period', u'sort_by'],\n",
       "  u'url': u'api/v1/booking_agency_airlines'},\n",
       " {u'Description': u'Travel Agency Booking Analysis API - top countries  ',\n",
       "  u'page': u'booking-analysis-top-countries.html',\n",
       "  u'parameters': [u'booking_period', u'sort_by'],\n",
       "  u'url': u'api/v1/booking_agency_countries'},\n",
       " {u'Description': u'Travel Agency Booking Analysis API - top O&Ds',\n",
       "  u'page': u'booking-analysis-top-onds.html',\n",
       "  u'parameters': [u'booking_period', u'sort_by'],\n",
       "  u'url': u'api/v1/booking_agency_onds'},\n",
       " {u'Description': u'Travel Agency Booking Analysis API - total per agency',\n",
       "  u'page': u'booking-analysis-total.html',\n",
       "  u'parameters': [u'booking_period'],\n",
       "  u'url': u'api/v1/booking_agency_totals'},\n",
       " {u'Description': u'Airline Reference API',\n",
       "  u'page': u'refdata-airlines.html',\n",
       "  u'parameters': [u'code'],\n",
       "  u'url': u'api/airlines'},\n",
       " {u'Description': u'Aircraft Reference API',\n",
       "  u'page': u'refdata-aircrafts.html',\n",
       "  u'parameters': [u'rest_obeject_id'],\n",
       "  u'url': u'api/aircraft'},\n",
       " {u'Description': u'Airport Reference API',\n",
       "  u'page': u'refdata-airports.html',\n",
       "  u'parameters': [u'rest_obeject_id'],\n",
       "  u'url': u'api/airports'},\n",
       " {u'Description': u'Cities Reference API',\n",
       "  u'page': u'refdata-cities.html',\n",
       "  u'parameters': [u'rest_obeject_id'],\n",
       "  u'url': u'api/cities'},\n",
       " {u'Description': u'Countries Reference API',\n",
       "  u'page': u'refdata-countries.html',\n",
       "  u'parameters': [u'rest_obeject_id'],\n",
       "  u'url': u'api/countries'}]"
      ]
     },
     "execution_count": 16,
     "metadata": {},
     "output_type": "execute_result"
    }
   ],
   "source": [
    "ws"
   ]
  },
  {
   "cell_type": "code",
   "execution_count": 17,
   "metadata": {
    "collapsed": false
   },
   "outputs": [
    {
     "data": {
      "text/plain": [
       "'[{\"url\": \"\", \"Description\": \"Custom Web Service\", \"parameters\": [\"\"]}, {\"url\": \"api/search_by_search_period\", \"Description\": \"Search hits by look date API\", \"parameters\": [\"market\", \"ptype\", \"period\", \"onds\"]}, {\"url\": \"api/v1/search_look_hits\", \"page\": \"search-look-hits.html\", \"parameters\": [\"market\", \"month\", \"origin\", \"destination\"], \"Description\": \"Search hits by look date API\"}, {\"url\": \"api/v1/search_travel_hits\", \"page\": \"search-travel-hits.html\", \"parameters\": [\"market\", \"month\", \"origin\", \"destination\", \"weekends\"], \"Description\": \"Search hits by travel date API  \"}, {\"url\": \"api/v1/search_hit_evolutions\", \"page\": \"search-hit-evolutions.html\", \"parameters\": [\"market\", \"origin\", \"destination\"], \"Description\": \"Search hit evolutions API\"}, {\"url\": \"api/v1/search_hit_variations\", \"page\": \"search-hit-variations.html\", \"parameters\": [\"market\", \"month_a\", \"month_b\"], \"Description\": \"Search hit variations API  \"}, {\"url\": \"api/v1/booking_agency_evolutions\", \"page\": \"booking-analysis-evolution.html\", \"parameters\": [\"booking_period\"], \"Description\": \"Travel Agency Booking Analysis API - evolution  \"}, {\"url\": \"api/v1/booking_agency_airlines\", \"page\": \"booking-analysis-top-airlines.html\", \"parameters\": [\"booking_period\", \"sort_by\"], \"Description\": \"Travel Agency Booking Analysis API - top airlines\"}, {\"url\": \"api/v1/booking_agency_countries\", \"page\": \"booking-analysis-top-countries.html\", \"parameters\": [\"booking_period\", \"sort_by\"], \"Description\": \"Travel Agency Booking Analysis API - top countries  \"}, {\"url\": \"api/v1/booking_agency_onds\", \"page\": \"booking-analysis-top-onds.html\", \"parameters\": [\"booking_period\", \"sort_by\"], \"Description\": \"Travel Agency Booking Analysis API - top O&Ds\"}, {\"url\": \"api/v1/booking_agency_totals\", \"page\": \"booking-analysis-total.html\", \"parameters\": [\"booking_period\"], \"Description\": \"Travel Agency Booking Analysis API - total per agency\"}, {\"url\": \"api/airlines\", \"page\": \"refdata-airlines.html\", \"parameters\": [\"code\"], \"Description\": \"Airline Reference API\"}, {\"url\": \"api/aircraft\", \"page\": \"refdata-aircrafts.html\", \"parameters\": [\"rest_obeject_id\"], \"Description\": \"Aircraft Reference API\"}, {\"url\": \"api/airports\", \"page\": \"refdata-airports.html\", \"parameters\": [\"rest_obeject_id\"], \"Description\": \"Airport Reference API\"}, {\"url\": \"api/cities\", \"page\": \"refdata-cities.html\", \"parameters\": [\"rest_obeject_id\"], \"Description\": \"Cities Reference API\"}, {\"url\": \"api/countries\", \"page\": \"refdata-countries.html\", \"parameters\": [\"rest_obeject_id\"], \"Description\": \"Countries Reference API\"}]'"
      ]
     },
     "execution_count": 17,
     "metadata": {},
     "output_type": "execute_result"
    }
   ],
   "source": [
    "json.dumps(ws)"
   ]
  },
  {
   "cell_type": "code",
   "execution_count": null,
   "metadata": {
    "collapsed": true
   },
   "outputs": [],
   "source": []
  }
 ],
 "metadata": {
  "kernelspec": {
   "display_name": "Python 2",
   "language": "python",
   "name": "python2"
  },
  "language_info": {
   "codemirror_mode": {
    "name": "ipython",
    "version": 2
   },
   "file_extension": ".py",
   "mimetype": "text/x-python",
   "name": "python",
   "nbconvert_exporter": "python",
   "pygments_lexer": "ipython2",
   "version": "2.7.9"
  }
 },
 "nbformat": 4,
 "nbformat_minor": 0
}
